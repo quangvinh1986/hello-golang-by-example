{
 "cells": [
  {
   "cell_type": "code",
   "execution_count": 1,
   "metadata": {},
   "outputs": [],
   "source": [
    "import \"fmt\""
   ]
  },
  {
   "cell_type": "markdown",
   "metadata": {},
   "source": [
    "# Hello by GO"
   ]
  },
  {
   "cell_type": "code",
   "execution_count": 2,
   "metadata": {},
   "outputs": [
    {
     "name": "stdout",
     "output_type": "stream",
     "text": [
      "hello-world by Golang\n"
     ]
    }
   ],
   "source": [
    "func hello_go(){\n",
    "    fmt.Println(\"hello-world by Golang\")\n",
    "}\n",
    "\n",
    "hello_go()"
   ]
  },
  {
   "cell_type": "markdown",
   "metadata": {},
   "source": [
    "# Declarations "
   ]
  },
  {
   "cell_type": "code",
   "execution_count": 3,
   "metadata": {},
   "outputs": [],
   "source": [
    "var foo int // declaration without initialization"
   ]
  },
  {
   "cell_type": "code",
   "execution_count": 4,
   "metadata": {},
   "outputs": [
    {
     "name": "stdout",
     "output_type": "stream",
     "text": [
      "foo = 42\n",
      "9\n",
      "<nil>\n"
     ]
    }
   ],
   "source": [
    "var foo int = 42 // declaration with initialization\n",
    "fmt.Println(\"foo =\", foo)"
   ]
  },
  {
   "cell_type": "code",
   "execution_count": 22,
   "metadata": {},
   "outputs": [
    {
     "name": "stdout",
     "output_type": "stream",
     "text": [
      "foo = 42 type:  int\n",
      "bar 1302 type:  int\n",
      "20\n",
      "<nil>\n"
     ]
    }
   ],
   "source": [
    "var foo, bar int = 42, 1302 // declare and init multiple vars at once\n",
    "fmt.Println(\"foo =\", foo, \"type: \", reflect.ValueOf(foo).Kind())\n",
    "fmt.Println(\"bar\", bar, \"type: \", reflect.ValueOf(bar).Kind())"
   ]
  },
  {
   "cell_type": "code",
   "execution_count": 23,
   "metadata": {},
   "outputs": [
    {
     "name": "stdout",
     "output_type": "stream",
     "text": [
      "foo = 42 type:  int\n",
      "20\n",
      "<nil>\n"
     ]
    }
   ],
   "source": [
    "var foo = 42 // type omitted, will be inferred \n",
    "fmt.Println(\"foo =\", foo, \"type: \", reflect.ValueOf(foo).Kind())"
   ]
  },
  {
   "cell_type": "code",
   "execution_count": 24,
   "metadata": {},
   "outputs": [
    {
     "name": "stdout",
     "output_type": "stream",
     "text": [
      "foo = 42 type:  int\n",
      "20\n",
      "<nil>\n"
     ]
    }
   ],
   "source": [
    "foo := 42 // shorthand, only in func bodies, omit var keyword, type is always implicit\n",
    "fmt.Println(\"foo =\", foo, \"type: \", reflect.ValueOf(foo).Kind())"
   ]
  },
  {
   "cell_type": "markdown",
   "metadata": {},
   "source": [
    "# Functions"
   ]
  },
  {
   "cell_type": "code",
   "execution_count": 7,
   "metadata": {},
   "outputs": [],
   "source": [
    "// a simple function\n",
    "func functionName() {\n",
    "    fmt.Println(\"a simple function\")\n",
    "}"
   ]
  },
  {
   "cell_type": "code",
   "execution_count": 8,
   "metadata": {},
   "outputs": [
    {
     "name": "stdout",
     "output_type": "stream",
     "text": [
      "a simple function\n"
     ]
    }
   ],
   "source": [
    "functionName()"
   ]
  },
  {
   "cell_type": "code",
   "execution_count": 9,
   "metadata": {},
   "outputs": [],
   "source": [
    "// function with parameters (again, types go after identifiers)\n",
    "func functionName(param1 string, param2 int) {\n",
    "    fmt.Println(\"function with parameters (again, types go after identifiers)\", param1, param2)\n",
    "}"
   ]
  },
  {
   "cell_type": "code",
   "execution_count": 10,
   "metadata": {},
   "outputs": [
    {
     "name": "stdout",
     "output_type": "stream",
     "text": [
      "function with parameters (again, types go after identifiers) vinh 35\n"
     ]
    }
   ],
   "source": [
    "functionName(\"vinh\", 35)"
   ]
  },
  {
   "cell_type": "code",
   "execution_count": 11,
   "metadata": {},
   "outputs": [],
   "source": [
    "// multiple parameters of the same type\n",
    "func functionName(param1, param2 int) {\n",
    "    fmt.Println(\"multiple parameters of the same type\", param1, param2)\n",
    "}\n"
   ]
  },
  {
   "cell_type": "code",
   "execution_count": 12,
   "metadata": {},
   "outputs": [
    {
     "name": "stdout",
     "output_type": "stream",
     "text": [
      "multiple parameters of the same type 100 200\n"
     ]
    }
   ],
   "source": [
    "functionName(100, 200)"
   ]
  },
  {
   "cell_type": "code",
   "execution_count": 13,
   "metadata": {},
   "outputs": [],
   "source": [
    "// return type declaration\n",
    "func functionName() int {\n",
    "    fmt.Println(\"return type declaration\")\n",
    "    return 42\n",
    "}"
   ]
  },
  {
   "cell_type": "code",
   "execution_count": 16,
   "metadata": {},
   "outputs": [
    {
     "name": "stdout",
     "output_type": "stream",
     "text": [
      "return type declaration\n",
      "42\n",
      "3\n",
      "<nil>\n"
     ]
    }
   ],
   "source": [
    "var value = functionName()\n",
    "fmt.Println(value)"
   ]
  },
  {
   "cell_type": "code",
   "execution_count": 18,
   "metadata": {},
   "outputs": [],
   "source": [
    "// Can return multiple values at once\n",
    "func returnMulti() (string, int) {\n",
    "    fmt.Println(\"return multiple value\")\n",
    "    return \"Vinh\", 35\n",
    "}"
   ]
  },
  {
   "cell_type": "code",
   "execution_count": 23,
   "metadata": {},
   "outputs": [
    {
     "name": "stdout",
     "output_type": "stream",
     "text": [
      "return multiple value\n",
      "Vinh 35\n",
      "8\n",
      "<nil>\n"
     ]
    }
   ],
   "source": [
    "var name, age = returnMulti()\n",
    "fmt.Println(name, age)"
   ]
  },
  {
   "cell_type": "code",
   "execution_count": 25,
   "metadata": {},
   "outputs": [
    {
     "name": "stdout",
     "output_type": "stream",
     "text": [
      "Vinh 35\n",
      "8\n",
      "<nil>\n"
     ]
    }
   ],
   "source": [
    "// Return multiple named results simply by return\n",
    "func returnMulti2() (name string, age int) {\n",
    "    name = \"Vinh\"\n",
    "    age = 35\n",
    "    // name and age will be returned\n",
    "    return\n",
    "}\n",
    "\n",
    "name, age = returnMulti2()\n",
    "fmt.Println(name, age)"
   ]
  },
  {
   "cell_type": "markdown",
   "metadata": {},
   "source": [
    "## Variadic Functions\n"
   ]
  },
  {
   "cell_type": "code",
   "execution_count": 26,
   "metadata": {},
   "outputs": [],
   "source": [
    "func adder(args ...int) int {\n",
    "    total := 0\n",
    "    for _, value := range args {\n",
    "        total += value\n",
    "    }\n",
    "    return total\n",
    "}"
   ]
  },
  {
   "cell_type": "code",
   "execution_count": 28,
   "metadata": {},
   "outputs": [
    {
     "name": "stdout",
     "output_type": "stream",
     "text": [
      "6 9 30\n",
      "7\n",
      "<nil>\n"
     ]
    }
   ],
   "source": [
    "value1 := adder(1, 2, 3)\n",
    "value2 := adder(4, 5)\n",
    "value3 := adder(6, 7, 8, 9)\n",
    "\n",
    "fmt.Println(value1, value2, value3)"
   ]
  },
  {
   "cell_type": "code",
   "execution_count": null,
   "metadata": {},
   "outputs": [],
   "source": []
  }
 ],
 "metadata": {
  "kernelspec": {
   "display_name": "Go (lgo)",
   "language": "go",
   "name": "lgo"
  },
  "language_info": {
   "file_extension": "",
   "mimetype": "",
   "name": "go",
   "version": ""
  }
 },
 "nbformat": 4,
 "nbformat_minor": 2
}
