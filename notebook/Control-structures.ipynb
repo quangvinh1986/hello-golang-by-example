{
 "cells": [
  {
   "cell_type": "markdown",
   "metadata": {},
   "source": [
    "# Control structures"
   ]
  },
  {
   "cell_type": "markdown",
   "metadata": {},
   "source": [
    "## if else "
   ]
  },
  {
   "cell_type": "code",
   "execution_count": 1,
   "metadata": {},
   "outputs": [],
   "source": [
    "import \"fmt\""
   ]
  },
  {
   "cell_type": "code",
   "execution_count": 10,
   "metadata": {},
   "outputs": [],
   "source": [
    "func basic(number int) string {\n",
    "    if number > 0 {\n",
    "        return \"positive number\"\n",
    "    } else if number < 0 {\n",
    "        return \"negative number\"\n",
    "    } else {\n",
    "        return \"zero\"\n",
    "    }\n",
    "}"
   ]
  },
  {
   "cell_type": "code",
   "execution_count": 11,
   "metadata": {},
   "outputs": [
    {
     "name": "stdout",
     "output_type": "stream",
     "text": [
      "positive number\n",
      "negative number\n",
      "zero\n",
      "5\n",
      "<nil>\n"
     ]
    }
   ],
   "source": [
    "fmt.Println(basic(10))\n",
    "fmt.Println(basic(-1))\n",
    "fmt.Println(basic(0))"
   ]
  },
  {
   "cell_type": "code",
   "execution_count": 14,
   "metadata": {},
   "outputs": [],
   "source": [
    "func statementCondition(number1 int, number2 int) string {\n",
    "    // put one statement before the condition\n",
    "    if total := number1 + number2; total < 100 {\n",
    "        return \"under 100\"\n",
    "    } else if total > 100 {\n",
    "        return \"over 100\"\n",
    "    } else {\n",
    "        return \"100\"\n",
    "    }\n",
    "}"
   ]
  },
  {
   "cell_type": "code",
   "execution_count": 15,
   "metadata": {},
   "outputs": [
    {
     "name": "stdout",
     "output_type": "stream",
     "text": [
      "under 100\n",
      "over 100\n",
      "100\n",
      "4\n",
      "<nil>\n"
     ]
    }
   ],
   "source": [
    "fmt.Println(statementCondition(10, 20))\n",
    "fmt.Println(statementCondition(90, 20))\n",
    "fmt.Println(statementCondition(70, 30))"
   ]
  },
  {
   "cell_type": "markdown",
   "metadata": {},
   "source": [
    "## for loop"
   ]
  },
  {
   "cell_type": "code",
   "execution_count": 18,
   "metadata": {},
   "outputs": [],
   "source": [
    "func getTotalSum(number int) int {\n",
    "    total := 0\n",
    "    for index := 1; index <= number; index ++ {\n",
    "        total += index\n",
    "    }\n",
    "    return total\n",
    "}\n",
    "\n"
   ]
  },
  {
   "cell_type": "code",
   "execution_count": 20,
   "metadata": {},
   "outputs": [
    {
     "name": "stdout",
     "output_type": "stream",
     "text": [
      "55\n",
      "210\n",
      "4\n",
      "<nil>\n"
     ]
    }
   ],
   "source": [
    "fmt.Println(getTotalSum(10))\n",
    "fmt.Println(getTotalSum(20))"
   ]
  },
  {
   "cell_type": "code",
   "execution_count": 33,
   "metadata": {},
   "outputs": [],
   "source": [
    "//while simulator\n",
    "func getTotalSumByWhileLoop(number int) int {\n",
    "    total := 0\n",
    "    index := 1\n",
    "    for ; index <= number; {\n",
    "        total += index\n",
    "        index ++\n",
    "    }\n",
    "    return total\n",
    "}"
   ]
  },
  {
   "cell_type": "code",
   "execution_count": 34,
   "metadata": {},
   "outputs": [
    {
     "name": "stdout",
     "output_type": "stream",
     "text": [
      "55\n",
      "210\n",
      "4\n",
      "<nil>\n"
     ]
    }
   ],
   "source": [
    "fmt.Println(getTotalSumByWhileLoop(10))\n",
    "fmt.Println(getTotalSumByWhileLoop(20))\n",
    "\n"
   ]
  },
  {
   "cell_type": "markdown",
   "metadata": {},
   "source": [
    "## for with label"
   ]
  },
  {
   "cell_type": "code",
   "execution_count": 63,
   "metadata": {},
   "outputs": [],
   "source": [
    "//find prime number from 2 to 100\n",
    "import (\n",
    "    \"fmt\";\n",
    "    \"math\"\n",
    "    )\n",
    "\n",
    "func findPrime(rangeNumber int){\n",
    "    next:\n",
    "    for number := 2; number < rangeNumber; number ++ {\n",
    "        maxNumber := int(math.Sqrt(float64(number))) + 1\n",
    "        for index := 2; index < maxNumber; index ++ {\n",
    "            if number % index == 0 {\n",
    "                continue next\n",
    "            }\n",
    "        }\n",
    "        fmt.Println(number, \"is a prime number\")\n",
    "    }\n",
    "} "
   ]
  },
  {
   "cell_type": "code",
   "execution_count": 64,
   "metadata": {},
   "outputs": [
    {
     "name": "stdout",
     "output_type": "stream",
     "text": [
      "2 is a prime number\n",
      "3 is a prime number\n",
      "5 is a prime number\n",
      "7 is a prime number\n",
      "11 is a prime number\n",
      "13 is a prime number\n",
      "17 is a prime number\n",
      "19 is a prime number\n",
      "23 is a prime number\n",
      "29 is a prime number\n",
      "31 is a prime number\n",
      "37 is a prime number\n",
      "41 is a prime number\n",
      "43 is a prime number\n",
      "47 is a prime number\n",
      "53 is a prime number\n",
      "59 is a prime number\n",
      "61 is a prime number\n",
      "67 is a prime number\n",
      "71 is a prime number\n",
      "73 is a prime number\n",
      "79 is a prime number\n",
      "83 is a prime number\n",
      "89 is a prime number\n",
      "97 is a prime number\n"
     ]
    }
   ],
   "source": [
    "findPrime(100)"
   ]
  },
  {
   "cell_type": "code",
   "execution_count": 68,
   "metadata": {},
   "outputs": [],
   "source": [
    "\n",
    "func find5FirstPrime(rangeNumber int){\n",
    "    count := 0\n",
    "    next:\n",
    "    for number := 2; number < rangeNumber; number ++ {\n",
    "        maxNumber := int(math.Sqrt(float64(number))) + 1\n",
    "        for index := 2; index < maxNumber; index ++ {\n",
    "            if number % index == 0 {\n",
    "                continue next\n",
    "            }\n",
    "        }\n",
    "        fmt.Println(number, \"is a prime number\")\n",
    "        count ++\n",
    "        if count == 5 {\n",
    "            break next\n",
    "        }\n",
    "    }\n",
    "} "
   ]
  },
  {
   "cell_type": "code",
   "execution_count": 69,
   "metadata": {},
   "outputs": [
    {
     "name": "stdout",
     "output_type": "stream",
     "text": [
      "2 is a prime number\n",
      "3 is a prime number\n",
      "5 is a prime number\n",
      "7 is a prime number\n",
      "11 is a prime number\n"
     ]
    }
   ],
   "source": [
    "find5FirstPrime(100)"
   ]
  },
  {
   "cell_type": "markdown",
   "metadata": {},
   "source": [
    "# switch"
   ]
  },
  {
   "cell_type": "code",
   "execution_count": 72,
   "metadata": {},
   "outputs": [
    {
     "name": "stdout",
     "output_type": "stream",
     "text": [
      "Linux\n"
     ]
    }
   ],
   "source": [
    "import (\n",
    "    \"fmt\";\n",
    "    \"runtime\"\n",
    ")\n",
    "\n",
    "func basicSwitch(){\n",
    "    os := runtime.GOOS\n",
    "    switch os {\n",
    "    case \"linux\": \n",
    "        fmt.Println(\"Linux\")\n",
    "    \n",
    "    case \"darwin\":\n",
    "        fmt.Println(\"MacOS\")\n",
    "    \n",
    "    default:\n",
    "        fmt.Println(\"Other\")\n",
    "    }    \n",
    "}\n",
    "\n",
    "basicSwitch()"
   ]
  },
  {
   "cell_type": "code",
   "execution_count": 73,
   "metadata": {},
   "outputs": [
    {
     "name": "stdout",
     "output_type": "stream",
     "text": [
      "Linux\n"
     ]
    }
   ],
   "source": [
    "func assignStatementSwitch(){\n",
    "    switch os := runtime.GOOS; os {\n",
    "    case \"linux\": \n",
    "        fmt.Println(\"Linux\")\n",
    "    \n",
    "    case \"darwin\":\n",
    "        fmt.Println(\"MacOS\")\n",
    "    \n",
    "    default:\n",
    "        fmt.Println(\"Other\")\n",
    "    }\n",
    "}\n",
    "assignStatementSwitch()\n"
   ]
  },
  {
   "cell_type": "code",
   "execution_count": 75,
   "metadata": {},
   "outputs": [
    {
     "name": "stdout",
     "output_type": "stream",
     "text": [
      "BUZZ\n",
      "FIZZ\n",
      "1\n",
      "FIZZBUZZ\n"
     ]
    }
   ],
   "source": [
    "func compareSwitch(number int){\n",
    "    switch {\n",
    "\tcase number%15 == 0:\n",
    "\t\tfmt.Println(\"FIZZBUZZ\")\n",
    "\tcase number%5 == 0:\n",
    "\t\tfmt.Println(\"BUZZ\")\n",
    "\tcase number%3 == 0:\n",
    "\t\tfmt.Println(\"FIZZ\")\n",
    "\tdefault:\n",
    "\t\tfmt.Println(number)\n",
    "\t}\n",
    "}\n",
    "\n",
    "compareSwitch(10)\n",
    "compareSwitch(9)\n",
    "compareSwitch(1)\n",
    "compareSwitch(15)"
   ]
  },
  {
   "cell_type": "code",
   "execution_count": null,
   "metadata": {},
   "outputs": [],
   "source": []
  }
 ],
 "metadata": {
  "kernelspec": {
   "display_name": "Go (lgo)",
   "language": "go",
   "name": "lgo"
  },
  "language_info": {
   "file_extension": "",
   "mimetype": "",
   "name": "go",
   "version": ""
  }
 },
 "nbformat": 4,
 "nbformat_minor": 2
}
